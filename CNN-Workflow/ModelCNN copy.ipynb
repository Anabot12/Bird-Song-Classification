{
 "cells": [
  {
   "cell_type": "code",
   "execution_count": 22,
   "metadata": {},
   "outputs": [],
   "source": [
    "import pandas as pd\n",
    "import numpy as np\n",
    "from sklearn.model_selection import train_test_split\n",
    "from tensorflow.keras.preprocessing.image import ImageDataGenerator\n",
    "from tensorflow.keras.preprocessing import image\n",
    "import os"
   ]
  },
  {
   "cell_type": "code",
   "execution_count": 23,
   "metadata": {},
   "outputs": [],
   "source": [
    "data = pd.read_csv(\"/Users/insiyar/Documents/Development/bird-song-classifier/CNN-Workflow/spectrogram_species_data.csv\")"
   ]
  },
  {
   "cell_type": "code",
   "execution_count": 24,
   "metadata": {},
   "outputs": [
    {
     "data": {
      "text/plain": [
       "<bound method NDFrame.describe of           id     species               name  png_filename\n",
       "0     557838    bewickii      Bewick's Wren  557838-0.png\n",
       "1     557838    bewickii      Bewick's Wren  557838-1.png\n",
       "2     557838    bewickii      Bewick's Wren  557838-4.png\n",
       "3     557838    bewickii      Bewick's Wren  557838-5.png\n",
       "4     557838    bewickii      Bewick's Wren  557838-6.png\n",
       "...      ...         ...                ...           ...\n",
       "5417   11713  cardinalis  Northern Cardinal   11713-8.png\n",
       "5418   11713  cardinalis  Northern Cardinal  11713-10.png\n",
       "5419   11713  cardinalis  Northern Cardinal  11713-14.png\n",
       "5420   11713  cardinalis  Northern Cardinal  11713-15.png\n",
       "5421   11713  cardinalis  Northern Cardinal  11713-16.png\n",
       "\n",
       "[5422 rows x 4 columns]>"
      ]
     },
     "execution_count": 24,
     "metadata": {},
     "output_type": "execute_result"
    }
   ],
   "source": [
    "data.describe"
   ]
  },
  {
   "cell_type": "code",
   "execution_count": 25,
   "metadata": {},
   "outputs": [
    {
     "name": "stdout",
     "output_type": "stream",
     "text": [
      "[\"Bewick's Wren\" 'Northern Mockingbird' 'American Robin' 'Song Sparrow'\n",
      " 'Northern Cardinal']\n"
     ]
    }
   ],
   "source": [
    "labels = data['name'].unique() \n",
    "print(labels)"
   ]
  },
  {
   "cell_type": "code",
   "execution_count": 26,
   "metadata": {},
   "outputs": [],
   "source": [
    "# Split the dataset into training, validation, and testing sets\n",
    "train_data, temp_data = train_test_split(data, test_size=0.3, random_state=42)\n",
    "validation_data, test_data = train_test_split(temp_data, test_size=0.5, random_state=42)"
   ]
  },
  {
   "cell_type": "code",
   "execution_count": 27,
   "metadata": {},
   "outputs": [
    {
     "name": "stderr",
     "output_type": "stream",
     "text": [
      "Processing images: 100%|██████████| 3795/3795 [00:52<00:00, 71.65it/s]\n",
      "Processing images: 100%|██████████| 814/814 [00:11<00:00, 72.81it/s]\n",
      "Processing images: 100%|██████████| 813/813 [00:11<00:00, 72.89it/s]\n"
     ]
    }
   ],
   "source": [
    "from tqdm import tqdm\n",
    "\n",
    "def load_and_preprocess_image(img_path, target_size=(224, 224)):\n",
    "    img = image.load_img(img_path, target_size=target_size)\n",
    "    img_array = image.img_to_array(img)\n",
    "    img_array = np.expand_dims(img_array, axis=0)\n",
    "    img_array /= 255. # Normalize pixel values to [0, 1]\n",
    "    return img_array\n",
    "\n",
    "def process_images_in_batches(data, batch_size=500):\n",
    "    images = []\n",
    "    labels = []\n",
    "    for index, row in tqdm(data.iterrows(), total=data.shape[0], desc=\"Processing images\"):\n",
    "        img_path = os.path.join('/Users/insiyar/Documents/Development/bird-song-classifier/output_spectrogram_folder', row['png_filename'])\n",
    "        img_array = load_and_preprocess_image(img_path)\n",
    "        images.append(img_array)\n",
    "        labels.append(row['species'])\n",
    "        \n",
    "        if len(images) % batch_size == 0:\n",
    "            images = np.concatenate(images, axis=0) \n",
    "            labels = np.array(labels)\n",
    "            yield images, labels\n",
    "            images = []\n",
    "            labels = []\n",
    "    \n",
    "    if images:\n",
    "        images = np.concatenate(images, axis=0) \n",
    "        labels = np.array(labels)\n",
    "        yield images, labels\n",
    "\n",
    "# Process the training and testing sets in batches\n",
    "train_images, train_labels = [], []\n",
    "test_images, test_labels = [], []\n",
    "validation_images = []\n",
    "validation_labels = []\n",
    "\n",
    "for batch_images, batch_labels in process_images_in_batches(train_data):\n",
    "    train_images.append(batch_images)\n",
    "    train_labels.append(batch_labels)\n",
    "\n",
    "for batch_images, batch_labels in process_images_in_batches(test_data):\n",
    "    test_images.append(batch_images)\n",
    "    test_labels.append(batch_labels)\n",
    "\n",
    "for batch_images, batch_labels in process_images_in_batches(validation_data):\n",
    "    validation_images.append(batch_images)\n",
    "    validation_labels.append(batch_labels)\n",
    "\n",
    "train_images = np.concatenate(train_images, axis=0) # Ensure train_images is a 4D array\n",
    "train_labels = np.concatenate(train_labels, axis=0) # Ensure train_labels is a 1D array\n",
    "test_images = np.concatenate(test_images, axis=0) # Ensure test_images is a 4D array\n",
    "test_labels = np.concatenate(test_labels, axis=0) # Ensure test_labels is a 1D array\n",
    "validation_images = np.concatenate(validation_images, axis=0) # Ensure validation_images is a 4D array\n",
    "validation_labels = np.concatenate(validation_labels, axis=0) # Ensure validation_labels is a 1D array"
   ]
  },
  {
   "cell_type": "code",
   "execution_count": 32,
   "metadata": {},
   "outputs": [],
   "source": [
    "# Data augmentation\n",
    "train_datagen = ImageDataGenerator(\n",
    "    rotation_range=20,\n",
    "    width_shift_range=0.2,\n",
    "    height_shift_range=0.2,\n",
    "    shear_range=0.2,\n",
    "    zoom_range=0.2,\n",
    "    horizontal_flip=True,\n",
    "    fill_mode='nearest')\n",
    "\n",
    "train_generator = train_datagen.flow(train_images, train_labels, batch_size=32)"
   ]
  },
  {
   "cell_type": "code",
   "execution_count": 33,
   "metadata": {},
   "outputs": [
    {
     "name": "stderr",
     "output_type": "stream",
     "text": [
      "/Users/insiyar/anaconda3/envs/audio/lib/python3.11/site-packages/keras/src/layers/convolutional/base_conv.py:99: UserWarning: Do not pass an `input_shape`/`input_dim` argument to a layer. When using Sequential models, prefer using an `Input(shape)` object as the first layer in the model instead.\n",
      "  super().__init__(\n"
     ]
    }
   ],
   "source": [
    "from tensorflow.keras.models import Sequential\n",
    "from tensorflow.keras.layers import Conv2D, MaxPooling2D, Flatten, Dense, Dropout\n",
    "\n",
    "model = Sequential([\n",
    "    Conv2D(32, (3, 3), activation='relu', input_shape=(224, 224, 3)),\n",
    "    MaxPooling2D((2, 2)),\n",
    "    Conv2D(64, (3, 3), activation='relu'),\n",
    "    MaxPooling2D((2, 2)),\n",
    "    Conv2D(128, (3, 3), activation='relu'),\n",
    "    MaxPooling2D((2, 2)),\n",
    "    Flatten(),\n",
    "    Dense(128, activation='relu'),\n",
    "    Dropout(0.5),\n",
    "    Dense(len(np.unique(validation_labels)), activation='softmax')\n",
    "])\n",
    "\n",
    "model.compile(optimizer='adam', loss='sparse_categorical_crossentropy', metrics=['accuracy'])\n"
   ]
  },
  {
   "cell_type": "code",
   "execution_count": 30,
   "metadata": {},
   "outputs": [
    {
     "name": "stdout",
     "output_type": "stream",
     "text": [
      "Encoded class labels: [0 1 2 3 4]\n",
      "Class label mapping: {'bewickii': 0, 'cardinalis': 1, 'melodia': 2, 'migratorius': 3, 'polyglottos': 4}\n"
     ]
    }
   ],
   "source": [
    "from sklearn.preprocessing import LabelEncoder\n",
    "\n",
    "# Initialize LabelEncoder\n",
    "label_encoder = LabelEncoder()\n",
    "\n",
    "# Fit and transform train_labels\n",
    "train_labels = label_encoder.fit_transform(train_labels)\n",
    "\n",
    "# Transform test_labels\n",
    "test_labels = label_encoder.transform(test_labels)\n",
    "\n",
    "# Transform validation_labels\n",
    "validation_labels = label_encoder.transform(validation_labels)\n",
    "\n",
    "# Print the unique encoded labels\n",
    "print(\"Encoded class labels:\", np.unique(train_labels))\n",
    "\n",
    "# Print the mapping of original class labels to encoded labels\n",
    "print(\"Class label mapping:\", dict(zip(label_encoder.classes_, range(len(label_encoder.classes_)))))"
   ]
  },
  {
   "cell_type": "code",
   "execution_count": 35,
   "metadata": {},
   "outputs": [
    {
     "name": "stdout",
     "output_type": "stream",
     "text": [
      "Epoch 1/10\n",
      "\u001b[1m119/119\u001b[0m \u001b[32m━━━━━━━━━━━━━━━━━━━━\u001b[0m\u001b[37m\u001b[0m \u001b[1m203s\u001b[0m 2s/step - accuracy: 0.3038 - loss: 1.5359 - val_accuracy: 0.3272 - val_loss: 1.4590\n",
      "Epoch 2/10\n",
      "\u001b[1m119/119\u001b[0m \u001b[32m━━━━━━━━━━━━━━━━━━━━\u001b[0m\u001b[37m\u001b[0m \u001b[1m189s\u001b[0m 2s/step - accuracy: 0.3561 - loss: 1.4625 - val_accuracy: 0.4453 - val_loss: 1.3229\n",
      "Epoch 3/10\n",
      "\u001b[1m119/119\u001b[0m \u001b[32m━━━━━━━━━━━━━━━━━━━━\u001b[0m\u001b[37m\u001b[0m \u001b[1m4454s\u001b[0m 38s/step - accuracy: 0.4149 - loss: 1.3690 - val_accuracy: 0.4797 - val_loss: 1.2666\n",
      "Epoch 4/10\n",
      "\u001b[1m119/119\u001b[0m \u001b[32m━━━━━━━━━━━━━━━━━━━━\u001b[0m\u001b[37m\u001b[0m \u001b[1m371s\u001b[0m 3s/step - accuracy: 0.4340 - loss: 1.3273 - val_accuracy: 0.4428 - val_loss: 1.2990\n",
      "Epoch 5/10\n",
      "\u001b[1m119/119\u001b[0m \u001b[32m━━━━━━━━━━━━━━━━━━━━\u001b[0m\u001b[37m\u001b[0m \u001b[1m1837s\u001b[0m 16s/step - accuracy: 0.4317 - loss: 1.2966 - val_accuracy: 0.5892 - val_loss: 1.0576\n",
      "Epoch 6/10\n",
      "\u001b[1m119/119\u001b[0m \u001b[32m━━━━━━━━━━━━━━━━━━━━\u001b[0m\u001b[37m\u001b[0m \u001b[1m196s\u001b[0m 2s/step - accuracy: 0.4997 - loss: 1.2124 - val_accuracy: 0.5695 - val_loss: 1.0392\n",
      "Epoch 7/10\n",
      "\u001b[1m119/119\u001b[0m \u001b[32m━━━━━━━━━━━━━━━━━━━━\u001b[0m\u001b[37m\u001b[0m \u001b[1m206s\u001b[0m 2s/step - accuracy: 0.5338 - loss: 1.1574 - val_accuracy: 0.5683 - val_loss: 1.0090\n",
      "Epoch 8/10\n",
      "\u001b[1m119/119\u001b[0m \u001b[32m━━━━━━━━━━━━━━━━━━━━\u001b[0m\u001b[37m\u001b[0m \u001b[1m610s\u001b[0m 5s/step - accuracy: 0.5555 - loss: 1.1128 - val_accuracy: 0.6113 - val_loss: 0.9303\n",
      "Epoch 9/10\n",
      "\u001b[1m119/119\u001b[0m \u001b[32m━━━━━━━━━━━━━━━━━━━━\u001b[0m\u001b[37m\u001b[0m \u001b[1m999s\u001b[0m 8s/step - accuracy: 0.5677 - loss: 1.0891 - val_accuracy: 0.6384 - val_loss: 0.9115\n",
      "Epoch 10/10\n",
      "\u001b[1m119/119\u001b[0m \u001b[32m━━━━━━━━━━━━━━━━━━━━\u001b[0m\u001b[37m\u001b[0m \u001b[1m173s\u001b[0m 1s/step - accuracy: 0.5785 - loss: 1.0498 - val_accuracy: 0.6839 - val_loss: 0.8023\n"
     ]
    }
   ],
   "source": [
    "history = model.fit(train_generator, epochs=10, validation_data=(validation_images, validation_labels))\n"
   ]
  },
  {
   "cell_type": "code",
   "execution_count": 36,
   "metadata": {},
   "outputs": [
    {
     "name": "stdout",
     "output_type": "stream",
     "text": [
      "\u001b[1m26/26\u001b[0m \u001b[32m━━━━━━━━━━━━━━━━━━━━\u001b[0m\u001b[37m\u001b[0m \u001b[1m9s\u001b[0m 323ms/step - accuracy: 0.6853 - loss: 0.8031\n",
      "Test accuracy: 0.6793611645698547\n"
     ]
    },
    {
     "data": {
      "image/png": "[encoded data removed]",
      "text/plain": [
       "<Figure size 640x480 with 1 Axes>"
      ]
     },
     "metadata": {},
     "output_type": "display_data"
    }
   ],
   "source": [
    "# Evaluate the model on the test set\n",
    "test_loss, test_acc = model.evaluate(test_images, test_labels)\n",
    "print(f'Test accuracy: {test_acc}')\n",
    "\n",
    "# Plot the training and validation accuracy\n",
    "import matplotlib.pyplot as plt\n",
    "\n",
    "plt.plot(history.history['accuracy'], label='Training Accuracy')\n",
    "plt.plot(history.history['val_accuracy'], label='Validation Accuracy')\n",
    "plt.title('Training and Validation Accuracy')\n",
    "plt.xlabel('Epochs')\n",
    "plt.ylabel('Accuracy')\n",
    "plt.legend()\n",
    "plt.show()\n"
   ]
  },
  {
   "cell_type": "code",
   "execution_count": 37,
   "metadata": {},
   "outputs": [
    {
     "name": "stdout",
     "output_type": "stream",
     "text": [
      "Epoch 1/10\n",
      "\u001b[1m119/119\u001b[0m \u001b[32m━━━━━━━━━━━━━━━━━━━━\u001b[0m\u001b[37m\u001b[0m \u001b[1m190s\u001b[0m 2s/step - accuracy: 0.6900 - loss: 0.8087 - val_accuracy: 0.7761 - val_loss: 0.5707\n",
      "Epoch 2/10\n",
      "\u001b[1m119/119\u001b[0m \u001b[32m━━━━━━━━━━━━━━━━━━━━\u001b[0m\u001b[37m\u001b[0m \u001b[1m172s\u001b[0m 1s/step - accuracy: 0.8068 - loss: 0.5322 - val_accuracy: 0.8057 - val_loss: 0.5044\n",
      "Epoch 3/10\n",
      "\u001b[1m119/119\u001b[0m \u001b[32m━━━━━━━━━━━━━━━━━━━━\u001b[0m\u001b[37m\u001b[0m \u001b[1m143s\u001b[0m 1s/step - accuracy: 0.8558 - loss: 0.3879 - val_accuracy: 0.8475 - val_loss: 0.4477\n",
      "Epoch 4/10\n",
      "\u001b[1m119/119\u001b[0m \u001b[32m━━━━━━━━━━━━━━━━━━━━\u001b[0m\u001b[37m\u001b[0m \u001b[1m132s\u001b[0m 1s/step - accuracy: 0.8923 - loss: 0.2889 - val_accuracy: 0.8549 - val_loss: 0.3783\n",
      "Epoch 5/10\n",
      "\u001b[1m119/119\u001b[0m \u001b[32m━━━━━━━━━━━━━━━━━━━━\u001b[0m\u001b[37m\u001b[0m \u001b[1m265s\u001b[0m 2s/step - accuracy: 0.9223 - loss: 0.2200 - val_accuracy: 0.8659 - val_loss: 0.3605\n",
      "Epoch 6/10\n",
      "\u001b[1m119/119\u001b[0m \u001b[32m━━━━━━━━━━━━━━━━━━━━\u001b[0m\u001b[37m\u001b[0m \u001b[1m299s\u001b[0m 3s/step - accuracy: 0.9495 - loss: 0.1550 - val_accuracy: 0.8770 - val_loss: 0.3896\n",
      "Epoch 7/10\n",
      "\u001b[1m119/119\u001b[0m \u001b[32m━━━━━━━━━━━━━━━━━━━━\u001b[0m\u001b[37m\u001b[0m \u001b[1m806s\u001b[0m 7s/step - accuracy: 0.9521 - loss: 0.1126 - val_accuracy: 0.8672 - val_loss: 0.4102\n",
      "Epoch 8/10\n",
      "\u001b[1m119/119\u001b[0m \u001b[32m━━━━━━━━━━━━━━━━━━━━\u001b[0m\u001b[37m\u001b[0m \u001b[1m5169s\u001b[0m 44s/step - accuracy: 0.9677 - loss: 0.0915 - val_accuracy: 0.8795 - val_loss: 0.4296\n",
      "Epoch 9/10\n",
      "\u001b[1m119/119\u001b[0m \u001b[32m━━━━━━━━━━━━━━━━━━━━\u001b[0m\u001b[37m\u001b[0m \u001b[1m19571s\u001b[0m 166s/step - accuracy: 0.9711 - loss: 0.0801 - val_accuracy: 0.8610 - val_loss: 0.4571\n",
      "Epoch 10/10\n",
      "\u001b[1m119/119\u001b[0m \u001b[32m━━━━━━━━━━━━━━━━━━━━\u001b[0m\u001b[37m\u001b[0m \u001b[1m206s\u001b[0m 2s/step - accuracy: 0.9722 - loss: 0.0788 - val_accuracy: 0.8758 - val_loss: 0.4802\n"
     ]
    }
   ],
   "source": [
    "history = model.fit(train_images, train_labels, epochs=10, validation_data=(validation_images, validation_labels))"
   ]
  }
 ],
 "metadata": {
  "kernelspec": {
   "display_name": "audio",
   "language": "python",
   "name": "python3"
  },
  "language_info": {
   "codemirror_mode": {
    "name": "ipython",
    "version": 3
   },
   "file_extension": ".py",
   "mimetype": "text/x-python",
   "name": "python",
   "nbconvert_exporter": "python",
   "pygments_lexer": "ipython3",
   "version": "3.11.7"
  }
 },
 "nbformat": 4,
 "nbformat_minor": 2
}
