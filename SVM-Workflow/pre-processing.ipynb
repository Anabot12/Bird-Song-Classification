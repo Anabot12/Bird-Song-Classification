{
 "cells": [
  {
   "cell_type": "code",
   "execution_count": null,
   "metadata": {},
   "outputs": [],
   "source": [
    "import os\n",
    "import librosa\n",
    "import librosa.display\n",
    "import numpy as np\n",
    "import matplotlib.pyplot as plt\n",
    "\n",
    "def preprocess_wav_to_spectrogram(input_folder, output_folder):\n",
    "    if not os.path.exists(output_folder):\n",
    "        os.makedirs(output_folder)\n",
    "\n",
    "    # Process each WAV file in the input folder\n",
    "    for filename in os.listdir(input_folder):\n",
    "        if filename.endswith(\".wav\"):\n",
    "\n",
    "            file_path = os.path.join(\"D:\\Bird-Song-Classification\\wavfiles\", filename)\n",
    "            y, sr = librosa.load(file_path)\n",
    "\n",
    "            # Compute spectrogram\n",
    "            spectrogram = librosa.feature.melspectrogram(y=y, sr=sr)\n",
    "            spectrogram_db = librosa.power_to_db(spectrogram, ref=np.max)\n",
    "\n",
    "            # Plot and save spectrogram\n",
    "            plt.figure(figsize=(10, 4))\n",
    "            librosa.display.specshow(spectrogram_db, sr=sr, x_axis='time', y_axis='mel')\n",
    "            plt.colorbar(format='%+2.0f dB')\n",
    "            plt.title('Mel spectrogram')\n",
    "            output_path = os.path.join(output_folder, f\"{filename[:-4]}.png\")\n",
    "            plt.savefig(output_path)\n",
    "            plt.close()\n",
    "\n",
    "            print(f\"Spectrogram saved: {output_path}\")\n",
    "\n",
    "input_folder = \"D:\\Bird-Song-Classification\\wavfiles\"\n",
    "output_folder = \"output_spectrogram_folder\"\n",
    "preprocess_wav_to_spectrogram(input_folder, output_folder)\n"
   ]
  }
 ],
 "metadata": {
  "kernelspec": {
   "display_name": "Python 3",
   "language": "python",
   "name": "python3"
  },
  "language_info": {
   "codemirror_mode": {
    "name": "ipython",
    "version": 3
   },
   "file_extension": ".py",
   "mimetype": "text/x-python",
   "name": "python",
   "nbconvert_exporter": "python",
   "pygments_lexer": "ipython3",
   "version": "3.11.2"
  }
 },
 "nbformat": 4,
 "nbformat_minor": 2
}
