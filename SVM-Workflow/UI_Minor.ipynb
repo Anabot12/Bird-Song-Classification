{
 "cells": [
  {
   "cell_type": "code",
   "execution_count": 1,
   "id": "14e84e8c",
   "metadata": {},
   "outputs": [],
   "source": [
    "import tkinter\n",
    "from tkinter import filedialog\n",
    "from tkinter import *"
   ]
  },
  {
   "cell_type": "code",
   "execution_count": 2,
   "id": "2f95cdae",
   "metadata": {},
   "outputs": [
    {
     "data": {
      "text/plain": [
       "''"
      ]
     },
     "execution_count": 2,
     "metadata": {},
     "output_type": "execute_result"
    }
   ],
   "source": [
    "ui = Tk()\n",
    "ui.geometry(\"600x600\")"
   ]
  },
  {
   "cell_type": "code",
   "execution_count": 3,
   "id": "98ba89a7",
   "metadata": {},
   "outputs": [
    {
     "data": {
      "text/plain": [
       "''"
      ]
     },
     "execution_count": 3,
     "metadata": {},
     "output_type": "execute_result"
    }
   ],
   "source": [
    "ui.title(\"Minor 2\")"
   ]
  },
  {
   "cell_type": "code",
   "execution_count": 4,
   "id": "ab5a8e55",
   "metadata": {},
   "outputs": [],
   "source": [
    "frame1 = LabelFrame(ui, bg = \"white\", borderwidth= 0)\n",
    "frame1.grid(row = 0, column= 0)\n",
    "frame2 = LabelFrame(ui, bg = \"white\", borderwidth= 0)\n",
    "frame2.grid(row = 1, column= 0)\n"
   ]
  },
  {
   "cell_type": "code",
   "execution_count": 5,
   "id": "c2e09e8d",
   "metadata": {},
   "outputs": [],
   "source": [
    "# canvas = Canvas(ui, width = 100, height= 300)\n",
    "# canvas.grid()\n",
    "# bird_img = PhotoImage(file = \"D:\\\\bird_on_branch.png\")\n",
    "# canvas.create_image(20, 20, image_names = bird_img)"
   ]
  },
  {
   "cell_type": "markdown",
   "id": "139cf7b2",
   "metadata": {},
   "source": []
  },
  {
   "cell_type": "code",
   "execution_count": 6,
   "id": "57c3d9e3",
   "metadata": {},
   "outputs": [],
   "source": [
    "def get_data():\n",
    "    path = filedialog.askopenfilename()\n",
    "    return path"
   ]
  },
  {
   "cell_type": "code",
   "execution_count": null,
   "id": "b6bc756f",
   "metadata": {},
   "outputs": [],
   "source": [
    "def submit_fun():\n",
    "    return"
   ]
  },
  {
   "cell_type": "code",
   "execution_count": null,
   "id": "0c9894d7",
   "metadata": {},
   "outputs": [],
   "source": [
    "upload_image = PhotoImage(file= \"D:\\\\upload_png.png\")\n",
    "exit_image = PhotoImage(file = \"D:\\\\exit_button.png\")"
   ]
  },
  {
   "cell_type": "code",
   "execution_count": null,
   "id": "139fcdac",
   "metadata": {},
   "outputs": [],
   "source": [
    "\n",
    "upload_button = Button(ui, image= upload_image, borderwidth= 0, relief= \"flat\", command = get_data)\n",
    "upload_button.grid(row= 0, column= 1)\n",
    "# SVM_button = Radiobutton(frame2, text= \"SVM Model\", relief= \"flat\", padx = 10, borderwidth= 0)\n",
    "# CNN_button = Radiobutton(frame2, text= \"CNN Model\", relief= \"flat\",  padx = 10, borderwidth= 0)\n",
    "# Alexnet_button = Radiobutton(frame2, text = \"Alexnet Model\", relief = \"flat\",  padx = 10, borderwidth= 0)\n"
   ]
  },
  {
   "cell_type": "code",
   "execution_count": null,
   "id": "48a3a3a7",
   "metadata": {},
   "outputs": [],
   "source": [
    "\n",
    "# SVM_button.grid(row = 0, column = 0)\n",
    "# CNN_button.grid(row = 0, column = 1)\n",
    "# Alexnet_button.grid(row = 0, column = 2)\n",
    "\n"
   ]
  },
  {
   "cell_type": "code",
   "execution_count": null,
   "id": "bfa0a877",
   "metadata": {},
   "outputs": [],
   "source": [
    "variable = StringVar(ui, \"1\")\n",
    "values = {\"SVM Model\": \"SVM_model\", \n",
    "          \"CNN Model\": \"CNN_model\", \n",
    "          \"Alexnet Model\": \"Alexnet_model\"}\n",
    "\n",
    "for(text, value) in values.items():\n",
    "    Radiobutton(ui, text= text, variable= variable, value = value, width = 15, bg = \"pink\").grid(ipadx = 5, ipady = 5, column= 1, sticky= S)\n"
   ]
  },
  {
   "cell_type": "code",
   "execution_count": null,
   "id": "be9e7363",
   "metadata": {},
   "outputs": [],
   "source": [
    "submit_button = Button(ui, text= \"Submit\", borderwidth= 0, command = lambda: submit_fun(), relief = \"flat\") \n",
    "exit_button = Button(ui, image= exit_image, command= ui.destroy, borderwidth= 0, relief = 'flat')\n",
    "\n",
    "submit_button.grid(row = 5, column = 1)\n",
    "exit_button.grid(row = 6, column= 1)"
   ]
  },
  {
   "cell_type": "code",
   "execution_count": null,
   "id": "8e639d50",
   "metadata": {},
   "outputs": [],
   "source": [
    "ui.config(bg=\"white\")"
   ]
  },
  {
   "cell_type": "code",
   "execution_count": null,
   "id": "705d968d",
   "metadata": {},
   "outputs": [],
   "source": [
    "ui.mainloop()"
   ]
  },
  {
   "cell_type": "code",
   "execution_count": null,
   "id": "fd329f39",
   "metadata": {},
   "outputs": [],
   "source": []
  }
 ],
 "metadata": {
  "kernelspec": {
   "display_name": "Python 3 (ipykernel)",
   "language": "python",
   "name": "python3"
  },
  "language_info": {
   "codemirror_mode": {
    "name": "ipython",
    "version": 3
   },
   "file_extension": ".py",
   "mimetype": "text/x-python",
   "name": "python",
   "nbconvert_exporter": "python",
   "pygments_lexer": "ipython3",
   "version": "3.11.2"
  }
 },
 "nbformat": 4,
 "nbformat_minor": 5
}
